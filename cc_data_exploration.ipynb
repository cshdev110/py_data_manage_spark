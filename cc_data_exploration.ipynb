{
 "cells": [
  {
   "cell_type": "markdown",
   "metadata": {},
   "source": [
    "## Data Analysis of covid_cases.csv dataset"
   ]
  },
  {
   "cell_type": "code",
   "execution_count": 1,
   "metadata": {},
   "outputs": [
    {
     "name": "stderr",
     "output_type": "stream",
     "text": [
      "/home/system/.local/share/virtualenvs/code-1VgnQ5C9/lib/python3.9/site-packages/pyspark/pandas/__init__.py:50: UserWarning: 'PYARROW_IGNORE_TIMEZONE' environment variable was not set. It is required to set this environment variable to '1' in both driver and executor sides if you use pyarrow>=2.0.0. pandas-on-Spark will set it for you but it does not work if there is a Spark context already launched.\n",
      "  warnings.warn(\n"
     ]
    }
   ],
   "source": [
    "# Libraries\n",
    "\n",
    "import pyspark.pandas as ps\n",
    "from pyspark.sql import SparkSession"
   ]
  },
  {
   "cell_type": "code",
   "execution_count": 26,
   "metadata": {},
   "outputs": [
    {
     "name": "stdout",
     "output_type": "stream",
     "text": [
      "iso_code\n",
      "continent\n",
      "location\n",
      "date\n",
      "total_cases\n",
      "new_cases\n",
      "new_cases_smoothed\n",
      "total_deaths\n",
      "new_deaths\n",
      "new_deaths_smoothed\n",
      "total_cases_per_million\n",
      "new_cases_per_million\n",
      "new_cases_smoothed_per_million\n",
      "total_deaths_per_million\n",
      "new_deaths_per_million\n",
      "new_deaths_smoothed_per_million\n",
      "reproduction_rate\n",
      "icu_patients\n",
      "icu_patients_per_million\n",
      "hosp_patients\n",
      "hosp_patients_per_million\n",
      "weekly_icu_admissions\n",
      "weekly_icu_admissions_per_million\n",
      "weekly_hosp_admissions\n",
      "weekly_hosp_admissions_per_million\n",
      "total_tests\n",
      "new_tests\n",
      "total_tests_per_thousand\n",
      "new_tests_per_thousand\n",
      "new_tests_smoothed\n",
      "new_tests_smoothed_per_thousand\n",
      "positive_rate\n",
      "tests_per_case\n",
      "tests_units\n",
      "total_vaccinations\n",
      "people_vaccinated\n",
      "people_fully_vaccinated\n",
      "new_vaccinations\n",
      "new_vaccinations_smoothed\n",
      "total_vaccinations_per_hundred\n",
      "people_vaccinated_per_hundred\n",
      "people_fully_vaccinated_per_hundred\n",
      "new_vaccinations_smoothed_per_million\n",
      "stringency_index\n",
      "population\n",
      "population_density\n",
      "median_age\n",
      "aged_65_older\n",
      "aged_70_older\n",
      "gdp_per_capita\n",
      "extreme_poverty\n",
      "cardiovasc_death_rate\n",
      "diabetes_prevalence\n",
      "female_smokers\n",
      "male_smokers\n",
      "handwashing_facilities\n",
      "hospital_beds_per_thousand\n",
      "life_expectancy\n",
      "human_development_index\n"
     ]
    },
    {
     "name": "stderr",
     "output_type": "stream",
     "text": [
      "23/10/20 22:55:30 WARN SparkStringUtils: Truncated the string representation of a plan since it was too large. This behavior can be adjusted by setting 'spark.sql.debug.maxToStringFields'.\n"
     ]
    },
    {
     "name": "stdout",
     "output_type": "stream",
     "text": [
      "+--------+---------+-----------+----------+-----------+---------+------------------+------------+----------+-------------------+-----------------------+---------------------+------------------------------+------------------------+----------------------+-------------------------------+-----------------+------------+------------------------+-------------+-------------------------+---------------------+---------------------------------+----------------------+----------------------------------+-----------+---------+------------------------+----------------------+------------------+-------------------------------+-------------+--------------+-----------+------------------+-----------------+-----------------------+----------------+-------------------------+------------------------------+-----------------------------+-----------------------------------+-------------------------------------+----------------+----------+------------------+----------+-------------+-------------+--------------+---------------+---------------------+-------------------+--------------+------------+----------------------+--------------------------+---------------+-----------------------+\n",
      "|iso_code|continent|   location|      date|total_cases|new_cases|new_cases_smoothed|total_deaths|new_deaths|new_deaths_smoothed|total_cases_per_million|new_cases_per_million|new_cases_smoothed_per_million|total_deaths_per_million|new_deaths_per_million|new_deaths_smoothed_per_million|reproduction_rate|icu_patients|icu_patients_per_million|hosp_patients|hosp_patients_per_million|weekly_icu_admissions|weekly_icu_admissions_per_million|weekly_hosp_admissions|weekly_hosp_admissions_per_million|total_tests|new_tests|total_tests_per_thousand|new_tests_per_thousand|new_tests_smoothed|new_tests_smoothed_per_thousand|positive_rate|tests_per_case|tests_units|total_vaccinations|people_vaccinated|people_fully_vaccinated|new_vaccinations|new_vaccinations_smoothed|total_vaccinations_per_hundred|people_vaccinated_per_hundred|people_fully_vaccinated_per_hundred|new_vaccinations_smoothed_per_million|stringency_index|population|population_density|median_age|aged_65_older|aged_70_older|gdp_per_capita|extreme_poverty|cardiovasc_death_rate|diabetes_prevalence|female_smokers|male_smokers|handwashing_facilities|hospital_beds_per_thousand|life_expectancy|human_development_index|\n",
      "+--------+---------+-----------+----------+-----------+---------+------------------+------------+----------+-------------------+-----------------------+---------------------+------------------------------+------------------------+----------------------+-------------------------------+-----------------+------------+------------------------+-------------+-------------------------+---------------------+---------------------------------+----------------------+----------------------------------+-----------+---------+------------------------+----------------------+------------------+-------------------------------+-------------+--------------+-----------+------------------+-----------------+-----------------------+----------------+-------------------------+------------------------------+-----------------------------+-----------------------------------+-------------------------------------+----------------+----------+------------------+----------+-------------+-------------+--------------+---------------+---------------------+-------------------+--------------+------------+----------------------+--------------------------+---------------+-----------------------+\n",
      "|iso_code|continent|   location|      date|total_cases|new_cases|new_cases_smoothed|total_deaths|new_deaths|new_deaths_smoothed|   total_cases_per_m...| new_cases_per_mil...|          new_cases_smoothe...|    total_deaths_per_...|  new_deaths_per_mi...|           new_deaths_smooth...|reproduction_rate|icu_patients|    icu_patients_per_...|hosp_patients|     hosp_patients_per...| weekly_icu_admiss...|             weekly_icu_admiss...|  weekly_hosp_admis...|              weekly_hosp_admis...|total_tests|new_tests|    total_tests_per_t...|  new_tests_per_tho...|new_tests_smoothed|           new_tests_smoothe...|positive_rate|tests_per_case|tests_units|total_vaccinations|people_vaccinated|   people_fully_vacc...|new_vaccinations|     new_vaccinations_...|          total_vaccination...|         people_vaccinated...|               people_fully_vacc...|                 new_vaccinations_...|stringency_index|population|population_density|median_age|aged_65_older|aged_70_older|gdp_per_capita|extreme_poverty| cardiovasc_death_...|diabetes_prevalence|female_smokers|male_smokers|  handwashing_facil...|      hospital_beds_per...|life_expectancy|   human_development...|\n",
      "|     AFG|     Asia|Afghanistan|2020-02-24|        1.0|      1.0|                  |            |          |                   |                  0.026|                0.026|                              |                        |                      |                               |                 |            |                        |             |                         |                     |                                 |                      |                                  |           |         |                        |                      |                  |                               |             |              |           |                  |                 |                       |                |                         |                              |                             |                                   |                                     |            8.33|38928341.0|            54.422|      18.6|        2.581|        1.337|      1803.987|               |              597.029|               9.59|              |            |                37.746|                       0.5|          64.83|                  0.498|\n",
      "|     AFG|     Asia|Afghanistan|2020-02-25|        1.0|      0.0|                  |            |          |                   |                  0.026|                  0.0|                              |                        |                      |                               |                 |            |                        |             |                         |                     |                                 |                      |                                  |           |         |                        |                      |                  |                               |             |              |           |                  |                 |                       |                |                         |                              |                             |                                   |                                     |            8.33|38928341.0|            54.422|      18.6|        2.581|        1.337|      1803.987|               |              597.029|               9.59|              |            |                37.746|                       0.5|          64.83|                  0.498|\n",
      "|     AFG|     Asia|Afghanistan|2020-02-26|        1.0|      0.0|                  |            |          |                   |                  0.026|                  0.0|                              |                        |                      |                               |                 |            |                        |             |                         |                     |                                 |                      |                                  |           |         |                        |                      |                  |                               |             |              |           |                  |                 |                       |                |                         |                              |                             |                                   |                                     |            8.33|38928341.0|            54.422|      18.6|        2.581|        1.337|      1803.987|               |              597.029|               9.59|              |            |                37.746|                       0.5|          64.83|                  0.498|\n",
      "|     AFG|     Asia|Afghanistan|2020-02-27|        1.0|      0.0|                  |            |          |                   |                  0.026|                  0.0|                              |                        |                      |                               |                 |            |                        |             |                         |                     |                                 |                      |                                  |           |         |                        |                      |                  |                               |             |              |           |                  |                 |                       |                |                         |                              |                             |                                   |                                     |            8.33|38928341.0|            54.422|      18.6|        2.581|        1.337|      1803.987|               |              597.029|               9.59|              |            |                37.746|                       0.5|          64.83|                  0.498|\n",
      "+--------+---------+-----------+----------+-----------+---------+------------------+------------+----------+-------------------+-----------------------+---------------------+------------------------------+------------------------+----------------------+-------------------------------+-----------------+------------+------------------------+-------------+-------------------------+---------------------+---------------------------------+----------------------+----------------------------------+-----------+---------+------------------------+----------------------+------------------+-------------------------------+-------------+--------------+-----------+------------------+-----------------+-----------------------+----------------+-------------------------+------------------------------+-----------------------------+-----------------------------------+-------------------------------------+----------------+----------+------------------+----------+-------------+-------------+--------------+---------------+---------------------+-------------------+--------------+------------+----------------------+--------------------------+---------------+-----------------------+\n",
      "\n"
     ]
    }
   ],
   "source": [
    "# Creating a spark session\n",
    "spark = SparkSession.builder.appName('covid_cases').getOrCreate()\n",
    "\n",
    "# Reading the dataset as a RDD\n",
    "rdd_df = spark.sparkContext.textFile('./datasets/covid_cases.csv')\n",
    "\n",
    "column_names = rdd_df.first().split(',')\n",
    "for name in column_names:\n",
    "    print(name)\n",
    "\n",
    "# Printing the first 5 rows\n",
    "spark.createDataFrame([tuple(line.split(',')) for line in rdd_df.take(5)], schema=column_names).show()\n",
    "\n",
    "# spark.createDataFrame(rdd_df.take(5).map(lambda line: tuple(line.split(','))), schema=column_names).show()\n",
    "\n",
    "# # Printing the schema\n",
    "# df.printSchema()\n",
    "\n",
    "# # Printing the first 5 rows\n",
    "# df.show(5)\n",
    "\n",
    "# # Printing the dataset size\n",
    "# print(df.toPandas().shape)"
   ]
  }
 ],
 "metadata": {
  "kernelspec": {
   "display_name": "code-1VgnQ5C9",
   "language": "python",
   "name": "python3"
  },
  "language_info": {
   "codemirror_mode": {
    "name": "ipython",
    "version": 3
   },
   "file_extension": ".py",
   "mimetype": "text/x-python",
   "name": "python",
   "nbconvert_exporter": "python",
   "pygments_lexer": "ipython3",
   "version": "3.9.2"
  }
 },
 "nbformat": 4,
 "nbformat_minor": 2
}
